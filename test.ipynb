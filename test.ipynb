{
 "cells": [
  {
   "cell_type": "code",
   "execution_count": 7,
   "metadata": {},
   "outputs": [
    {
     "name": "stdout",
     "output_type": "stream",
     "text": [
      "part - [0, 1, 2, 3, 4]\n",
      "0\n",
      "1\n",
      "2\n",
      "3\n",
      "4\n",
      "part - [0, 1, 2, 3, 4, 5, 6, 7, 8, 9]\n",
      "0\n",
      "1\n",
      "2\n",
      "3\n",
      "4\n",
      "5\n",
      "6\n",
      "7\n",
      "8\n",
      "9\n"
     ]
    }
   ],
   "source": [
    "def sapiens_like_train_val_test(x):\n",
    "    out = list(range(x))\n",
    "    return out\n",
    "\n",
    "def train_test_iterator(partioner):\n",
    "    part = partioner()\n",
    "    print(f\"part - {part}\")\n",
    "    for i in part:\n",
    "        yield i\n",
    "\n",
    "\n",
    "def get_iterator(inp):\n",
    "    def partioner(inp):\n",
    "        return lambda : sapiens_like_train_val_test(inp)\n",
    "\n",
    "    iterator = train_test_iterator(partioner=partioner(inp))\n",
    "\n",
    "    return iterator\n",
    "\n",
    "iter_n = get_iterator(inp=5)\n",
    "for x in iter_n:\n",
    "    print(x)\n",
    "\n",
    "\n",
    "iter_n = get_iterator(inp=10)\n",
    "for x in iter_n:\n",
    "    print(x)\n",
    "\n",
    "\n",
    "\n",
    "\n",
    "\n",
    "\n"
   ]
  },
  {
   "cell_type": "code",
   "execution_count": 9,
   "metadata": {},
   "outputs": [
    {
     "name": "stdout",
     "output_type": "stream",
     "text": [
      "4\n",
      "5\n",
      "6\n",
      "7\n"
     ]
    }
   ],
   "source": [
    "def fun(x):\n",
    "    return x\n",
    "\n",
    "z1 = lambda : fun(4)\n",
    "print(z1())\n",
    "z1 = lambda : fun(5)\n",
    "print(z1())\n",
    "z1 = lambda : fun(6)\n",
    "print(z1())\n",
    "z1 = lambda : fun(7)\n",
    "print(z1())\n"
   ]
  }
 ],
 "metadata": {
  "interpreter": {
   "hash": "b5ddb582bcc40e6dc71def1f7029448cd54971b0956f8216dd5a838309a64497"
  },
  "kernelspec": {
   "display_name": "Python 3.8.0 64-bit ('bayer': conda)",
   "name": "python3"
  },
  "language_info": {
   "codemirror_mode": {
    "name": "ipython",
    "version": 3
   },
   "file_extension": ".py",
   "mimetype": "text/x-python",
   "name": "python",
   "nbconvert_exporter": "python",
   "pygments_lexer": "ipython3",
   "version": "3.8.0"
  },
  "orig_nbformat": 4
 },
 "nbformat": 4,
 "nbformat_minor": 2
}
